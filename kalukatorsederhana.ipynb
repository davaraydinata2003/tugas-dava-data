{
  "nbformat": 4,
  "nbformat_minor": 0,
  "metadata": {
    "colab": {
      "provenance": []
    },
    "kernelspec": {
      "name": "python3",
      "display_name": "Python 3"
    },
    "language_info": {
      "name": "python"
    }
  },
  "cells": [
    {
      "cell_type": "code",
      "execution_count": 4,
      "metadata": {
        "colab": {
          "base_uri": "https://localhost:8080/"
        },
        "id": "bJ7MGrbDoGLE",
        "outputId": "1f24499e-7999-4cbe-9a5d-ddf08d5b28af"
      },
      "outputs": [
        {
          "output_type": "stream",
          "name": "stdout",
          "text": [
            "Masukkan bilangan 1: 200000\n",
            "Masukkan bilangan 2: 10\n",
            "Masukkan operator :/\n",
            "hasil pembagian = 20000.0\n"
          ]
        }
      ],
      "source": [
        "bil1 = int(input(\"Masukkan bilangan 1: \"))\n",
        "bil2 = int(input(\"Masukkan bilangan 2: \"))\n",
        "operator = input(\"Masukkan operator :\")\n",
        "if (operator == \"+\"):\n",
        "  hasil = bil1 + bil2\n",
        "  print (\"hasil penjumlahan =\", hasil)\n",
        "elif (operator == \"-\"):\n",
        "  hasil = bil1 - bil2\n",
        "  print (\"hasil pengurangan =\", hasil)\n",
        "elif (operator == \"/\"):\n",
        "  hasil = bil1 / bil2\n",
        "  print (\"hasil pembagian =\", hasil)\n",
        "elif (operator == \"*\"):\n",
        "  hasil = bil1 * bil2\n",
        "  print (\"hasil perkalian =\", hasil)\n",
        "elif (operator == \"**\"):\n",
        "  hasil = bil1 ** bil2\n",
        "  print (\"hasil perpangkatan =\", hasil)\n",
        "else:\n",
        "  print(\"maaf operator yang anda masukkan salah\")"
      ]
    }
  ]
}